{
 "cells": [
  {
   "cell_type": "code",
   "execution_count": 1,
   "metadata": {
    "collapsed": true
   },
   "outputs": [],
   "source": [
    "import numpy as np"
   ]
  },
  {
   "cell_type": "markdown",
   "metadata": {},
   "source": [
    "# $\\alpha$-expansion"
   ]
  },
  {
   "cell_type": "code",
   "execution_count": 2,
   "metadata": {
    "collapsed": false
   },
   "outputs": [
    {
     "ename": "ImportError",
     "evalue": "DLL load failed: %1 не является приложением Win32.",
     "output_type": "error",
     "traceback": [
      "\u001b[1;31m---------------------------------------------------------------------------\u001b[0m",
      "\u001b[1;31mImportError\u001b[0m                               Traceback (most recent call last)",
      "\u001b[1;32m<ipython-input-2-47ea0d54e86a>\u001b[0m in \u001b[0;36m<module>\u001b[1;34m()\u001b[0m\n\u001b[1;32m----> 1\u001b[1;33m \u001b[1;32mfrom\u001b[0m \u001b[0mgraph_cut\u001b[0m \u001b[1;32mimport\u001b[0m \u001b[0mgraph_cut\u001b[0m\u001b[1;33m\u001b[0m\u001b[0m\n\u001b[0m",
      "\u001b[1;31mImportError\u001b[0m: DLL load failed: %1 не является приложением Win32."
     ]
    }
   ],
   "source": [
    "from graph_cut import graph_cut"
   ]
  },
  {
   "cell_type": "code",
   "execution_count": null,
   "metadata": {
    "collapsed": true
   },
   "outputs": [],
   "source": [
    "def alpha_expansion(phi_unary, c_pairwise, phi_pairwise, max_iter):\n",
    "    '''\n",
    "    Parameters:\n",
    "        phi_unary -- tensor of unary potentials (n x m x K)\n",
    "        \n",
    "    '''    \n",
    "    # (n, m) -- shape of the lattice\n",
    "    # K -- number of classes\n",
    "    n, m, K = phi_unary.shape\n",
    "    \n",
    "    X = np.zeros((n, m, K), dtype='int')\n",
    "    \n",
    "    N = n * m # number of vertices\n",
    "    \n",
    "    E_old = np.inf\n",
    "    alpha = 0\n",
    "    for i_iter in xrange(max_iter):\n",
    "        # randomly select alpha\n",
    "        #alpha = np.random.randint(K)\n",
    "        alpha = (aplha + 1)%K\n",
    "        \n",
    "        ################ Conostruct the graph #######################\n",
    "        \n",
    "        \n",
    "        ################ Run graph cut ########################\n",
    "        \n",
    "        cut, labels = graph\n",
    "    \n",
    "    return "
   ]
  },
  {
   "cell_type": "code",
   "execution_count": null,
   "metadata": {
    "collapsed": true
   },
   "outputs": [],
   "source": []
  },
  {
   "cell_type": "code",
   "execution_count": null,
   "metadata": {
    "collapsed": true
   },
   "outputs": [],
   "source": []
  }
 ],
 "metadata": {
  "kernelspec": {
   "display_name": "Python 2",
   "language": "python",
   "name": "python2"
  },
  "language_info": {
   "codemirror_mode": {
    "name": "ipython",
    "version": 2
   },
   "file_extension": ".py",
   "mimetype": "text/x-python",
   "name": "python",
   "nbconvert_exporter": "python",
   "pygments_lexer": "ipython2",
   "version": "2.7.10"
  }
 },
 "nbformat": 4,
 "nbformat_minor": 0
}
