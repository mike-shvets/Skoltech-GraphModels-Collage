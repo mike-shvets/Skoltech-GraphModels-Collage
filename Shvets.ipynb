{
 "cells": [
  {
   "cell_type": "code",
   "execution_count": 66,
   "metadata": {
    "collapsed": true
   },
   "outputs": [],
   "source": [
    "import numpy as np\n",
    "from matplotlib import pyplot as plt\n",
    "%matplotlib inline\n",
    "\n",
    "inf = 1e+6"
   ]
  },
  {
   "cell_type": "markdown",
   "metadata": {},
   "source": [
    "# Construct potentials"
   ]
  },
  {
   "cell_type": "markdown",
   "metadata": {},
   "source": [
    "$$c_{ij} = \\max\\limits_{k \\in \\{ 1, \\dots, K\\}} | I_i(k) - I_j(k) |$$\n",
    "\n",
    "$$d(x_i, x_j) = |x_i \\neq x_j|$$"
   ]
  },
  {
   "cell_type": "code",
   "execution_count": 87,
   "metadata": {
    "collapsed": false
   },
   "outputs": [],
   "source": [
    "K, n, m = 3, 135, 140\n",
    "inputs = np.random.rand(K, n, m, 3)\n",
    "masks = np.random.randint(0, 2, K*n*m).reshape((K, n, m))\n",
    "for k in xrange(K):\n",
    "    inputs[k] = plt.imread('data/syntetic/' + str(k+1) + '_crop.jpg')\n",
    "    cur_mask = plt.imread('data/syntetic/' + str(k+1) + 'mask_crop.jpg')\n",
    "    masks[k] = np.all(cur_mask > 230, axis=2)    "
   ]
  },
  {
   "cell_type": "code",
   "execution_count": 90,
   "metadata": {
    "collapsed": false
   },
   "outputs": [],
   "source": [
    "N_vert = n * m\n",
    "M_edg = 2 * (n-1) * (m-1) + (n-1) + (m-1)"
   ]
  },
  {
   "cell_type": "code",
   "execution_count": 91,
   "metadata": {
    "collapsed": false
   },
   "outputs": [],
   "source": [
    "c_pairwise = np.zeros((M_edg, 3))\n",
    "phi_unaries = np.zeros((N_vert, K))\n",
    "i_vert = 0\n",
    "j_edge = 0\n",
    "for ih in xrange(n):\n",
    "    for iw in xrange(m):\n",
    "        phi_unaries[i_vert] = inf * masks[:, ih, iw]\n",
    "        if ih + 1 < n:\n",
    "            c_pairwise[j_edge] = i_vert, i_vert + n, np.max(np.abs(inputs[:, ih, iw] - inputs[:, ih+1, iw]))\n",
    "            j_edge += 1\n",
    "        if iw + 1 < m:\n",
    "            c_pairwise[j_edge] = i_vert, i_vert + 1, np.max(np.abs(inputs[:, ih, iw] - inputs[:, ih, iw+1]))\n",
    "            j_edge += 1\n",
    "        \n",
    "        i_vert += 1"
   ]
  },
  {
   "cell_type": "code",
   "execution_count": null,
   "metadata": {
    "collapsed": true
   },
   "outputs": [],
   "source": []
  },
  {
   "cell_type": "markdown",
   "metadata": {},
   "source": [
    "# $\\alpha$-expansion"
   ]
  },
  {
   "cell_type": "markdown",
   "metadata": {},
   "source": [
    "$\\alpha$-expansion is an iterative process, where on each step some label $\\alpha$ is chosen and some variables $x_i$ can change their value to $alpha$.\n"
   ]
  },
  {
   "cell_type": "code",
   "execution_count": 65,
   "metadata": {
    "collapsed": false
   },
   "outputs": [
    {
     "name": "stdout",
     "output_type": "stream",
     "text": [
      "(23.0, array([0, 0, 1, 0], dtype=int32))\n"
     ]
    }
   ],
   "source": [
    "# source, sink\n",
    "terminal_weights = np.array([[16,0],[13,0],[0,20],[0,4]], dtype=float)\n",
    "\n",
    "# From, To, Capacity, Rev_Capacity\n",
    "edge_weights = np.array([[0,1,10,4], [0,2,12,0], [1,2,0,9], [1,3,14,0], [2,3,0,7]], dtype=float)\n",
    "\n",
    "(cut, labels) = graph_cut(terminal_weights, edge_weights)\n",
    "print (cut, labels)"
   ]
  },
  {
   "cell_type": "code",
   "execution_count": 99,
   "metadata": {
    "collapsed": false
   },
   "outputs": [],
   "source": [
    "from graph_cut import graph_cut\n",
    "\n",
    "def d(x_i, x_j):\n",
    "    return int(x_i != x_j)\n",
    "\n",
    "def alpha_expansion(phi_unary, c_pairwise, d, max_iter=100, tol=1e-3):\n",
    "    '''\n",
    "    Parameters:\n",
    "        phi_unary -- matrix of unary potentials (N_vert x K)\n",
    "        c_pairwise -- matrix of weights on the lattice (M_edg x 3),\n",
    "            where each of 3 numbers are (from, to, c_{ij})\n",
    "        d -- metric function        \n",
    "    '''    \n",
    "    # N_vert -- number of vertices\n",
    "    # K -- number of classes\n",
    "    N_vert, K = phi_unary.shape\n",
    "    # M_edg -- number of edges\n",
    "    M_edg = c_pairwise.shape[0]\n",
    "    \n",
    "    X = np.zeros(N_vert, dtype='int')\n",
    "    \n",
    "    E_old = np.inf\n",
    "    alpha = 0\n",
    "    for i_iter in xrange(max_iter):\n",
    "        # randomly select alpha\n",
    "        #alpha = np.random.randint(K)\n",
    "        alpha = (alpha + 1) % K\n",
    "        \n",
    "        ################ Construct the graph #######################\n",
    "        terminal_weights = np.zeros((N_vert, 2))\n",
    "        edge_weights = np.zeros((M_edg, 4))\n",
    "        \n",
    "        terminal_weights[:, 0] = phi_unary[np.arange(N_vert), X] # y_i = 0 (X_i^{new} != \\alpha)\n",
    "        terminal_weights[X == alpha, 0] = inf # y_i cannot be zero where X_i^{old} = \\alpha\n",
    "        terminal_weights[:, 1] = phi_unary[:, alpha] # y_i = 1 (X_i^{new} = alpha)\n",
    "        \n",
    "        for j in xrange(M_edg):\n",
    "            from_, to_, weight = c_pairwise[j]\n",
    "            phi_a = weight * d(X[from_], X[to_])\n",
    "            phi_b = weight * d(X[from_], alpha)\n",
    "            phi_c = weight * d(alpha, X[to_])\n",
    "            phi_d = weight * d(alpha, alpha)\n",
    "            \n",
    "            #phi_b_hat = (phi_b - phi_a + phi_c - phi_d)/2\n",
    "            edge_weights[j] = (from_, to_, phi_b - phi_a, phi_c - phi_d)\n",
    "            terminal_weights[from_][0] += phi_a\n",
    "            terminal_weights[from_][1] += phi_d\n",
    "        \n",
    "        ################ Run graph cut #############################\n",
    "        E, labels = graph_cut(terminal_weights, edge_weights)\n",
    "        X[labels == 0] = alpha\n",
    "        \n",
    "        ################ Compute energy ############################\n",
    "        if E_old - E < tol: break\n",
    "        else: E_old = E\n",
    "    \n",
    "    return X"
   ]
  },
  {
   "cell_type": "code",
   "execution_count": 100,
   "metadata": {
    "collapsed": false
   },
   "outputs": [
    {
     "name": "stderr",
     "output_type": "stream",
     "text": [
      "/home/mikhail/anaconda2/lib/python2.7/site-packages/ipykernel/__main__.py:39: VisibleDeprecationWarning: using a non-integer number instead of an integer will result in an error in the future\n",
      "/home/mikhail/anaconda2/lib/python2.7/site-packages/ipykernel/__main__.py:40: VisibleDeprecationWarning: using a non-integer number instead of an integer will result in an error in the future\n",
      "/home/mikhail/anaconda2/lib/python2.7/site-packages/ipykernel/__main__.py:41: VisibleDeprecationWarning: using a non-integer number instead of an integer will result in an error in the future\n",
      "/home/mikhail/anaconda2/lib/python2.7/site-packages/ipykernel/__main__.py:45: VisibleDeprecationWarning: using a non-integer number instead of an integer will result in an error in the future\n",
      "/home/mikhail/anaconda2/lib/python2.7/site-packages/ipykernel/__main__.py:46: VisibleDeprecationWarning: using a non-integer number instead of an integer will result in an error in the future\n"
     ]
    },
    {
     "ename": "ValueError",
     "evalue": "Error in pairwise terms array: negative edge weight",
     "output_type": "error",
     "traceback": [
      "\u001b[1;31m---------------------------------------------------------------------------\u001b[0m",
      "\u001b[1;31mValueError\u001b[0m                                Traceback (most recent call last)",
      "\u001b[1;32m<ipython-input-100-f326c3f3afad>\u001b[0m in \u001b[0;36m<module>\u001b[1;34m()\u001b[0m\n\u001b[1;32m----> 1\u001b[1;33m \u001b[0mX\u001b[0m \u001b[1;33m=\u001b[0m \u001b[0malpha_expansion\u001b[0m\u001b[1;33m(\u001b[0m\u001b[0mphi_unaries\u001b[0m\u001b[1;33m,\u001b[0m \u001b[0mc_pairwise\u001b[0m\u001b[1;33m,\u001b[0m \u001b[0md\u001b[0m\u001b[1;33m)\u001b[0m\u001b[1;33m\u001b[0m\u001b[0m\n\u001b[0m",
      "\u001b[1;32m<ipython-input-99-5e981421ca99>\u001b[0m in \u001b[0;36malpha_expansion\u001b[1;34m(phi_unary, c_pairwise, d, max_iter, tol)\u001b[0m\n\u001b[0;32m     47\u001b[0m \u001b[1;33m\u001b[0m\u001b[0m\n\u001b[0;32m     48\u001b[0m         \u001b[1;31m################ Run graph cut #############################\u001b[0m\u001b[1;33m\u001b[0m\u001b[1;33m\u001b[0m\u001b[0m\n\u001b[1;32m---> 49\u001b[1;33m         \u001b[0mE\u001b[0m\u001b[1;33m,\u001b[0m \u001b[0mlabels\u001b[0m \u001b[1;33m=\u001b[0m \u001b[0mgraph_cut\u001b[0m\u001b[1;33m(\u001b[0m\u001b[0mterminal_weights\u001b[0m\u001b[1;33m,\u001b[0m \u001b[0medge_weights\u001b[0m\u001b[1;33m)\u001b[0m\u001b[1;33m\u001b[0m\u001b[0m\n\u001b[0m\u001b[0;32m     50\u001b[0m         \u001b[0mX\u001b[0m\u001b[1;33m[\u001b[0m\u001b[0mlabels\u001b[0m \u001b[1;33m==\u001b[0m \u001b[1;36m0\u001b[0m\u001b[1;33m]\u001b[0m \u001b[1;33m=\u001b[0m \u001b[0malpha\u001b[0m\u001b[1;33m\u001b[0m\u001b[0m\n\u001b[0;32m     51\u001b[0m \u001b[1;33m\u001b[0m\u001b[0m\n",
      "\u001b[1;32mgraph_cut.pyx\u001b[0m in \u001b[0;36mgraph_cut.graph_cut (graph_cut.cpp:1838)\u001b[1;34m()\u001b[0m\n",
      "\u001b[1;31mValueError\u001b[0m: Error in pairwise terms array: negative edge weight"
     ]
    }
   ],
   "source": [
    "X = alpha_expansion(phi_unaries, c_pairwise, d)"
   ]
  },
  {
   "cell_type": "code",
   "execution_count": null,
   "metadata": {
    "collapsed": true
   },
   "outputs": [],
   "source": []
  },
  {
   "cell_type": "code",
   "execution_count": null,
   "metadata": {
    "collapsed": true
   },
   "outputs": [],
   "source": []
  },
  {
   "cell_type": "markdown",
   "metadata": {},
   "source": [
    "# $\\alpha \\beta$-swap "
   ]
  },
  {
   "cell_type": "code",
   "execution_count": null,
   "metadata": {
    "collapsed": true
   },
   "outputs": [],
   "source": []
  },
  {
   "cell_type": "code",
   "execution_count": null,
   "metadata": {
    "collapsed": true
   },
   "outputs": [],
   "source": []
  },
  {
   "cell_type": "code",
   "execution_count": null,
   "metadata": {
    "collapsed": true
   },
   "outputs": [],
   "source": []
  },
  {
   "cell_type": "code",
   "execution_count": null,
   "metadata": {
    "collapsed": true
   },
   "outputs": [],
   "source": []
  },
  {
   "cell_type": "code",
   "execution_count": null,
   "metadata": {
    "collapsed": true
   },
   "outputs": [],
   "source": []
  },
  {
   "cell_type": "code",
   "execution_count": null,
   "metadata": {
    "collapsed": true
   },
   "outputs": [],
   "source": []
  },
  {
   "cell_type": "code",
   "execution_count": null,
   "metadata": {
    "collapsed": true
   },
   "outputs": [],
   "source": []
  }
 ],
 "metadata": {
  "kernelspec": {
   "display_name": "Python 2",
   "language": "python",
   "name": "python2"
  },
  "language_info": {
   "codemirror_mode": {
    "name": "ipython",
    "version": 2
   },
   "file_extension": ".py",
   "mimetype": "text/x-python",
   "name": "python",
   "nbconvert_exporter": "python",
   "pygments_lexer": "ipython2",
   "version": "2.7.11"
  }
 },
 "nbformat": 4,
 "nbformat_minor": 0
}
